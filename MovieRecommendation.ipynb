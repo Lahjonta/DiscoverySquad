{
 "cells": [
  {
   "cell_type": "markdown",
   "id": "8b9dbc36",
   "metadata": {},
   "source": [
    "# Movie Recommendation Using NLP"
   ]
  },
  {
   "cell_type": "markdown",
   "id": "216f0773",
   "metadata": {},
   "source": [
    "### Import necessary libraries"
   ]
  },
  {
   "cell_type": "code",
   "execution_count": 1,
   "id": "98aa66a7",
   "metadata": {},
   "outputs": [],
   "source": [
    "import pandas as pd\n",
    "import matplotlib.pyplot as plt\n",
    "import io\n",
    "from sklearn.feature_extraction.text import TfidfVectorizer\n",
    "from sklearn.metrics.pairwise import cosine_similarity\n",
    "from skimage import io\n",
    "from IPython.display import clear_output\n",
    "pd.set_option('display.max_colwidth', None)"
   ]
  },
  {
   "cell_type": "markdown",
   "id": "ece361a1",
   "metadata": {},
   "source": [
    "## Data Preprocessing"
   ]
  },
  {
   "cell_type": "code",
   "execution_count": 2,
   "id": "6386b434",
   "metadata": {},
   "outputs": [],
   "source": [
    "# read the dataset https://www.kaggle.com/datasets/akshaypawar7/millions-of-movies\n",
    "df = pd.read_csv('movies.csv')"
   ]
  },
  {
   "cell_type": "code",
   "execution_count": 3,
   "id": "435bbea7",
   "metadata": {},
   "outputs": [],
   "source": [
    "# drop movies that have a short description\n",
    "df['word_count'] = df['overview'].apply(lambda x: len(str(x).split()))\n",
    "df = df[df['word_count'] >= 50]\n",
    "df.drop('word_count', axis=1, inplace=True)"
   ]
  },
  {
   "cell_type": "code",
   "execution_count": 4,
   "id": "f8362500",
   "metadata": {},
   "outputs": [],
   "source": [
    "# drop all duplicates\n",
    "df.drop_duplicates(subset=['title', 'release_date'], inplace=True)\n",
    "df.reset_index(drop=True, inplace=True)"
   ]
  },
  {
   "cell_type": "code",
   "execution_count": 5,
   "id": "e75bf059",
   "metadata": {},
   "outputs": [],
   "source": [
    "# Drop rows with missing poster_path\n",
    "df.dropna(subset=['poster_path'], inplace=True)"
   ]
  },
  {
   "cell_type": "code",
   "execution_count": 6,
   "id": "b2d45e45",
   "metadata": {},
   "outputs": [],
   "source": [
    "# fill empty cells\n",
    "df.fillna(value={i: '' for i in ['overview', 'genres', 'keywords', 'credits']}, inplace=True)"
   ]
  },
  {
   "cell_type": "code",
   "execution_count": 7,
   "id": "170260d6",
   "metadata": {},
   "outputs": [],
   "source": [
    "# lambda function to preprocess string data\n",
    "strOp= lambda x: ' '.join(x.split('-'))"
   ]
  },
  {
   "cell_type": "code",
   "execution_count": 8,
   "id": "17fdd6e3",
   "metadata": {},
   "outputs": [],
   "source": [
    "# add keywords, genres and credits to overview for full information\n",
    "df.overview = df.overview + df.keywords.apply(strOp) + df.genres.apply(strOp) + df.credits.apply(lambda x: ' '.join(x.replace(' ', '').split('-')[:3]))\n",
    "# example\n",
    "# df.overview[0]"
   ]
  },
  {
   "cell_type": "markdown",
   "id": "1d2f3f50",
   "metadata": {},
   "source": [
    "### Initialize the TF-IDF Vectorizer to transform text data into vectors"
   ]
  },
  {
   "cell_type": "markdown",
   "id": "2142328e",
   "metadata": {},
   "source": [
    "#### only run these lines once!"
   ]
  },
  {
   "cell_type": "code",
   "execution_count": 9,
   "id": "3d4d2747",
   "metadata": {},
   "outputs": [],
   "source": [
    "# TF-IDF Vectorizer to transform words into numbers and remove common english words like 'the'\n",
    "tfidf = TfidfVectorizer(stop_words='english')"
   ]
  },
  {
   "cell_type": "code",
   "execution_count": 10,
   "id": "d7dbc53d",
   "metadata": {},
   "outputs": [],
   "source": [
    "# transform overview data with TF-IDF vectorizer to create matrix\n",
    "tfidf_matrix = tfidf.fit_transform(df['overview'])"
   ]
  },
  {
   "cell_type": "code",
   "execution_count": 11,
   "id": "23992497",
   "metadata": {},
   "outputs": [
    {
     "data": {
      "text/html": [
       "<div>\n",
       "<style scoped>\n",
       "    .dataframe tbody tr th:only-of-type {\n",
       "        vertical-align: middle;\n",
       "    }\n",
       "\n",
       "    .dataframe tbody tr th {\n",
       "        vertical-align: top;\n",
       "    }\n",
       "\n",
       "    .dataframe thead th {\n",
       "        text-align: right;\n",
       "    }\n",
       "</style>\n",
       "<table border=\"1\" class=\"dataframe\">\n",
       "  <thead>\n",
       "    <tr style=\"text-align: right;\">\n",
       "      <th></th>\n",
       "      <th>adventurebrandonsemenuk</th>\n",
       "      <th>adventurebreckinmeyer</th>\n",
       "      <th>adventurebrendanguymurphy</th>\n",
       "      <th>adventurebrettmaxworthy</th>\n",
       "      <th>adventurebriankeith</th>\n",
       "    </tr>\n",
       "    <tr>\n",
       "      <th>title</th>\n",
       "      <th></th>\n",
       "      <th></th>\n",
       "      <th></th>\n",
       "      <th></th>\n",
       "      <th></th>\n",
       "    </tr>\n",
       "  </thead>\n",
       "  <tbody>\n",
       "    <tr>\n",
       "      <th>Avatar: The Way of Water</th>\n",
       "      <td>0.0</td>\n",
       "      <td>0.0</td>\n",
       "      <td>0.0</td>\n",
       "      <td>0.0</td>\n",
       "      <td>0.0</td>\n",
       "    </tr>\n",
       "    <tr>\n",
       "      <th>Ant-Man and the Wasp: Quantumania</th>\n",
       "      <td>0.0</td>\n",
       "      <td>0.0</td>\n",
       "      <td>0.0</td>\n",
       "      <td>0.0</td>\n",
       "      <td>0.0</td>\n",
       "    </tr>\n",
       "    <tr>\n",
       "      <th>Creed III</th>\n",
       "      <td>0.0</td>\n",
       "      <td>0.0</td>\n",
       "      <td>0.0</td>\n",
       "      <td>0.0</td>\n",
       "      <td>0.0</td>\n",
       "    </tr>\n",
       "    <tr>\n",
       "      <th>Knock at the Cabin</th>\n",
       "      <td>0.0</td>\n",
       "      <td>0.0</td>\n",
       "      <td>0.0</td>\n",
       "      <td>0.0</td>\n",
       "      <td>0.0</td>\n",
       "    </tr>\n",
       "    <tr>\n",
       "      <th>Black Panther: Wakanda Forever</th>\n",
       "      <td>0.0</td>\n",
       "      <td>0.0</td>\n",
       "      <td>0.0</td>\n",
       "      <td>0.0</td>\n",
       "      <td>0.0</td>\n",
       "    </tr>\n",
       "  </tbody>\n",
       "</table>\n",
       "</div>"
      ],
      "text/plain": [
       "                                   adventurebrandonsemenuk  \\\n",
       "title                                                        \n",
       "Avatar: The Way of Water                               0.0   \n",
       "Ant-Man and the Wasp: Quantumania                      0.0   \n",
       "Creed III                                              0.0   \n",
       "Knock at the Cabin                                     0.0   \n",
       "Black Panther: Wakanda Forever                         0.0   \n",
       "\n",
       "                                   adventurebreckinmeyer  \\\n",
       "title                                                      \n",
       "Avatar: The Way of Water                             0.0   \n",
       "Ant-Man and the Wasp: Quantumania                    0.0   \n",
       "Creed III                                            0.0   \n",
       "Knock at the Cabin                                   0.0   \n",
       "Black Panther: Wakanda Forever                       0.0   \n",
       "\n",
       "                                   adventurebrendanguymurphy  \\\n",
       "title                                                          \n",
       "Avatar: The Way of Water                                 0.0   \n",
       "Ant-Man and the Wasp: Quantumania                        0.0   \n",
       "Creed III                                                0.0   \n",
       "Knock at the Cabin                                       0.0   \n",
       "Black Panther: Wakanda Forever                           0.0   \n",
       "\n",
       "                                   adventurebrettmaxworthy  \\\n",
       "title                                                        \n",
       "Avatar: The Way of Water                               0.0   \n",
       "Ant-Man and the Wasp: Quantumania                      0.0   \n",
       "Creed III                                              0.0   \n",
       "Knock at the Cabin                                     0.0   \n",
       "Black Panther: Wakanda Forever                         0.0   \n",
       "\n",
       "                                   adventurebriankeith  \n",
       "title                                                   \n",
       "Avatar: The Way of Water                           0.0  \n",
       "Ant-Man and the Wasp: Quantumania                  0.0  \n",
       "Creed III                                          0.0  \n",
       "Knock at the Cabin                                 0.0  \n",
       "Black Panther: Wakanda Forever                     0.0  "
      ]
     },
     "metadata": {},
     "output_type": "display_data"
    },
    {
     "name": "stdout",
     "output_type": "stream",
     "text": [
      "(157230, 440760)\n"
     ]
    }
   ],
   "source": [
    "#display some columns with vectorized words\n",
    "display(pd.DataFrame(\n",
    "    tfidf_matrix[:5, 10000:10005].toarray(),\n",
    "    columns= tfidf.get_feature_names_out()[10000:10005],\n",
    "    index = df.title[:5]).round())\n",
    "\n",
    "print(tfidf_matrix.shape)\n",
    "# over 970000 different words used to describe all movies"
   ]
  },
  {
   "cell_type": "markdown",
   "id": "b0452818",
   "metadata": {},
   "source": [
    "## Movie Recommendation"
   ]
  },
  {
   "cell_type": "markdown",
   "id": "f5bd286d",
   "metadata": {},
   "source": [
    "### Initialize the recommendation function"
   ]
  },
  {
   "cell_type": "code",
   "execution_count": 12,
   "id": "c31043ba",
   "metadata": {},
   "outputs": [],
   "source": [
    "def get_recommendation(user_input):\n",
    "    # Vectorize user input\n",
    "    vectorized_input = tfidf.transform([user_input])\n",
    "\n",
    "    # Calculate cosine similarity between user input and movie overviews\n",
    "    similarity_scores = cosine_similarity(vectorized_input, tfidf_matrix)\n",
    "\n",
    "    # Get the indices of top similar movies\n",
    "    top_indices = similarity_scores.argsort()[0][::-1][:3]\n",
    "\n",
    "    # Retrieve the top recommended movies\n",
    "    recommended_movies = df.iloc[top_indices]\n",
    "\n",
    "    # Display movie posters for the recommended movies\n",
    "    fig, ax = plt.subplots(1, 3, figsize=(15, 20))\n",
    "    ax = ax.flatten()\n",
    "    for i, j in enumerate(recommended_movies.poster_path):\n",
    "        try:\n",
    "            ax[i].axis('off')\n",
    "            ax[i].set_title(recommended_movies.iloc[i].title, fontsize=22)\n",
    "            a = io.imread(f'https://image.tmdb.org/t/p/w500/{j}')\n",
    "            ax[i].imshow(a)\n",
    "        except:\n",
    "            pass\n",
    "    fig.tight_layout()\n",
    "    plt.show()\n",
    "    print()\n",
    "    print(recommended_movies.overview)\n",
    "    \n",
    "    # Prompt user for feedback\n",
    "    feedback = input(\"Does one of these movies sound interesting? (Y/N): \")\n",
    "\n",
    "    if feedback.upper() == \"Y\":\n",
    "        print(\"Great! Enjoy your movies.\")\n",
    "    elif feedback.upper() == \"N\":\n",
    "        clear_output()\n",
    "        print(\"Okay, here are alternative movies:\")\n",
    "\n",
    "        # Get the next top indices (excluding the previous top indices)\n",
    "        next_top_indices = similarity_scores.argsort()[0][::-1][3:6]\n",
    "\n",
    "        # Retrieve the next top recommended movies\n",
    "        next_recommended_movies = df.iloc[next_top_indices]\n",
    "        \n",
    "        # Display movie posters for the recommended movies\n",
    "        fig, ax = plt.subplots(1, 3, figsize=(15, 20))\n",
    "        ax = ax.flatten()\n",
    "        for i, j in enumerate(next_recommended_movies.poster_path):\n",
    "            try:\n",
    "                ax[i].axis('off')\n",
    "                ax[i].set_title(next_recommended_movies.iloc[i].title, fontsize=22)\n",
    "                a = io.imread(f'https://image.tmdb.org/t/p/w500/{j}')\n",
    "                ax[i].imshow(a)\n",
    "            except:\n",
    "                pass\n",
    "        fig.tight_layout()\n",
    "        plt.show()\n",
    "        print()\n",
    "        print(next_recommended_movies.overview)\n",
    "        \n",
    "    else:\n",
    "        print(\"Invalid input. Please enter Y for 'Yes' or N for 'No'.\")"
   ]
  },
  {
   "cell_type": "markdown",
   "id": "566aa70b",
   "metadata": {},
   "source": [
    "### Ask for User Input"
   ]
  },
  {
   "cell_type": "code",
   "execution_count": null,
   "id": "b505a98f",
   "metadata": {},
   "outputs": [],
   "source": [
    "# replace the string with a description of the type of movie you'd like to see\n",
    "user_input = \"a fox dates a rabbit romance\""
   ]
  },
  {
   "cell_type": "markdown",
   "id": "72052baf",
   "metadata": {},
   "source": [
    "### Show Recommendations"
   ]
  },
  {
   "cell_type": "code",
   "execution_count": null,
   "id": "aea2fa50",
   "metadata": {},
   "outputs": [],
   "source": [
    "get_recommendation(user_input)"
   ]
  },
  {
   "cell_type": "code",
   "execution_count": null,
   "id": "4c5aae6d",
   "metadata": {},
   "outputs": [],
   "source": []
  }
 ],
 "metadata": {
  "kernelspec": {
   "display_name": "Python 3 (ipykernel)",
   "language": "python",
   "name": "python3"
  },
  "language_info": {
   "codemirror_mode": {
    "name": "ipython",
    "version": 3
   },
   "file_extension": ".py",
   "mimetype": "text/x-python",
   "name": "python",
   "nbconvert_exporter": "python",
   "pygments_lexer": "ipython3",
   "version": "3.9.7"
  }
 },
 "nbformat": 4,
 "nbformat_minor": 5
}
