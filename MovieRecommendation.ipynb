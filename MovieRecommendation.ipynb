{
 "cells": [
  {
   "cell_type": "markdown",
   "id": "8b9dbc36",
   "metadata": {
    "slideshow": {
     "slide_type": "slide"
    }
   },
   "source": [
    "# Movie Recommendation Using NLP"
   ]
  },
  {
   "cell_type": "markdown",
   "id": "216f0773",
   "metadata": {
    "slideshow": {
     "slide_type": "-"
    }
   },
   "source": [
    "### Import necessary libraries"
   ]
  },
  {
   "cell_type": "code",
   "execution_count": 18,
   "id": "98aa66a7",
   "metadata": {
    "slideshow": {
     "slide_type": "-"
    }
   },
   "outputs": [],
   "source": [
    "import pandas as pd\n",
    "import matplotlib.pyplot as plt\n",
    "import io\n",
    "from sklearn.feature_extraction.text import TfidfVectorizer\n",
    "from sklearn.metrics.pairwise import cosine_similarity\n",
    "from skimage import io\n",
    "from IPython.display import clear_output\n",
    "pd.set_option('display.max_colwidth', None)"
   ]
  },
  {
   "cell_type": "markdown",
   "id": "ece361a1",
   "metadata": {
    "slideshow": {
     "slide_type": "slide"
    }
   },
   "source": [
    "## Data Preprocessing"
   ]
  },
  {
   "cell_type": "code",
   "execution_count": 19,
   "id": "6386b434",
   "metadata": {},
   "outputs": [],
   "source": [
    "# read the dataset https://www.kaggle.com/datasets/akshaypawar7/millions-of-movies\n",
    "df = pd.read_csv('movies.csv')"
   ]
  },
  {
   "cell_type": "code",
   "execution_count": 20,
   "id": "435bbea7",
   "metadata": {},
   "outputs": [],
   "source": [
    "# drop movies that have a short description\n",
    "df['word_count'] = df['overview'].apply(lambda x: len(str(x).split()))\n",
    "df = df[df['word_count'] >= 50]\n",
    "df.drop('word_count', axis=1, inplace=True)"
   ]
  },
  {
   "cell_type": "code",
   "execution_count": 21,
   "id": "f8362500",
   "metadata": {},
   "outputs": [],
   "source": [
    "# drop all duplicates\n",
    "df.drop_duplicates(subset=['title', 'release_date'], inplace=True)\n",
    "df.reset_index(drop=True, inplace=True)"
   ]
  },
  {
   "cell_type": "code",
   "execution_count": 22,
   "id": "e75bf059",
   "metadata": {},
   "outputs": [],
   "source": [
    "# Drop rows with missing poster_path\n",
    "df.dropna(subset=['poster_path'], inplace=True)"
   ]
  },
  {
   "cell_type": "code",
   "execution_count": 23,
   "id": "b2d45e45",
   "metadata": {},
   "outputs": [],
   "source": [
    "# fill empty cells\n",
    "df.fillna(value={i: '' for i in ['overview', 'genres', 'keywords', 'credits']}, inplace=True)"
   ]
  },
  {
   "cell_type": "code",
   "execution_count": 24,
   "id": "170260d6",
   "metadata": {},
   "outputs": [],
   "source": [
    "# lambda function to preprocess string data\n",
    "strOp= lambda x: ' '.join(x.split('-'))"
   ]
  },
  {
   "cell_type": "code",
   "execution_count": 25,
   "id": "d336014f",
   "metadata": {},
   "outputs": [
    {
     "name": "stderr",
     "output_type": "stream",
     "text": [
      "C:\\Users\\Janika\\AppData\\Local\\Temp\\ipykernel_12728\\833376294.py:3: FutureWarning: The default value of regex will change from True to False in a future version.\n",
      "  df.overview = df.overview.str.replace(r'[^\\w\\s]+', '')\n"
     ]
    }
   ],
   "source": [
    "# set overview to lowercase and remove punctuation\n",
    "df.overview = df.overview.str.lower()\n",
    "df.overview = df.overview.str.replace(r'[^\\w\\s]+', '')"
   ]
  },
  {
   "cell_type": "code",
   "execution_count": 26,
   "id": "17fdd6e3",
   "metadata": {
    "slideshow": {
     "slide_type": "slide"
    }
   },
   "outputs": [
    {
     "data": {
      "text/plain": [
       "'set more than a decade after the events of the first film learn the story of the sully family jake neytiri and their kids the trouble that follows them the lengths they go to keep each other safe the battles they fight to stay alive and the tragedies they endureloss of loved one dying and death alien life form resurrection sequel dysfunctional family alien planet distant future adopted child rebirth family dynamics adopted son stronger villain warScience Fiction Adventure ActionSamWorthington ZoeSaldaña SigourneyWeaver'"
      ]
     },
     "execution_count": 26,
     "metadata": {},
     "output_type": "execute_result"
    }
   ],
   "source": [
    "# add keywords, genres and credits to overview for full information\n",
    "df.overview = df.overview + df.keywords.apply(strOp) + df.genres.apply(strOp) + df.credits.apply(lambda x: ' '.join(x.replace(' ', '').split('-')[:3]))\n",
    "# example\n",
    "df.overview[0]"
   ]
  },
  {
   "cell_type": "markdown",
   "id": "1d2f3f50",
   "metadata": {
    "slideshow": {
     "slide_type": "slide"
    }
   },
   "source": [
    "### Initialize the TF-IDF Vectorizer to transform text data into vectors"
   ]
  },
  {
   "cell_type": "markdown",
   "id": "2142328e",
   "metadata": {
    "slideshow": {
     "slide_type": "skip"
    }
   },
   "source": [
    "#### only run these lines once!"
   ]
  },
  {
   "cell_type": "code",
   "execution_count": 27,
   "id": "3d4d2747",
   "metadata": {},
   "outputs": [],
   "source": [
    "# TF-IDF Vectorizer to transform words into numbers and remove common english words like 'the'\n",
    "tfidf = TfidfVectorizer(stop_words='english')"
   ]
  },
  {
   "cell_type": "code",
   "execution_count": null,
   "id": "d7dbc53d",
   "metadata": {},
   "outputs": [],
   "source": [
    "# transform overview data with TF-IDF vectorizer to create matrix\n",
    "tfidf_matrix = tfidf.fit_transform(df['overview'])"
   ]
  },
  {
   "cell_type": "code",
   "execution_count": null,
   "id": "23992497",
   "metadata": {},
   "outputs": [],
   "source": [
    "#display some columns with vectorized words\n",
    "display(pd.DataFrame(\n",
    "    tfidf_matrix[:5, 10000:10005].toarray(),\n",
    "    columns= tfidf.get_feature_names_out()[10000:10005],\n",
    "    index = df.title[:5]).round())\n",
    "\n",
    "print(tfidf_matrix.shape)\n",
    "# over 970000 different words used to describe all movies"
   ]
  },
  {
   "cell_type": "markdown",
   "id": "b0452818",
   "metadata": {
    "slideshow": {
     "slide_type": "slide"
    }
   },
   "source": [
    "## Movie Recommendation"
   ]
  },
  {
   "cell_type": "markdown",
   "id": "f5bd286d",
   "metadata": {},
   "source": [
    "### Initialize the recommendation function"
   ]
  },
  {
   "cell_type": "markdown",
   "id": "566aa70b",
   "metadata": {},
   "source": [
    "### Ask for User Input"
   ]
  },
  {
   "cell_type": "code",
   "execution_count": null,
   "id": "b6bf3e64",
   "metadata": {},
   "outputs": [],
   "source": [
    "def get_genres():\n",
    "    genres = input(\"What Movie Genre are you interested in (if multiple, please separate them with a comma)? [Type 'skip' to skip this question] \")\n",
    "    genres = \" \".join([\"\".join(n.split()) for n in genres.lower().split(',')])\n",
    "    return genres\n",
    "\n",
    "def get_overview():\n",
    "    overview = input(\"What should the movie be about [Type 'skip' to skip this question]\")\n",
    "    overview = overview.lower()\n",
    "    overview = overview.replace(r'[^\\w\\s]+', '')\n",
    "    return overview\n",
    "    \n",
    "def get_searchTerms():\n",
    "    searchTerms = [] \n",
    "    genres = get_genres()\n",
    "    if genres != 'skip':\n",
    "        searchTerms.append(genres)\n",
    "\n",
    "    overview = get_overview()\n",
    "    if overview != 'skip':\n",
    "        searchTerms.append(overview)\n",
    "    \n",
    "    searchTerms = \" \".join(searchTerms)\n",
    "\n",
    "    return searchTerms"
   ]
  },
  {
   "cell_type": "code",
   "execution_count": null,
   "id": "b505a98f",
   "metadata": {
    "scrolled": true
   },
   "outputs": [],
   "source": [
    "user_input = get_searchTerms()"
   ]
  },
  {
   "cell_type": "markdown",
   "id": "72052baf",
   "metadata": {
    "slideshow": {
     "slide_type": "slide"
    }
   },
   "source": [
    "### Show Recommendations"
   ]
  },
  {
   "cell_type": "code",
   "execution_count": null,
   "id": "aea2fa50",
   "metadata": {},
   "outputs": [],
   "source": [
    "get_recommendation(user_input)"
   ]
  }
 ],
 "metadata": {
  "celltoolbar": "Slideshow",
  "kernelspec": {
   "display_name": "Python 3 (ipykernel)",
   "language": "python",
   "name": "python3"
  },
  "language_info": {
   "codemirror_mode": {
    "name": "ipython",
    "version": 3
   },
   "file_extension": ".py",
   "mimetype": "text/x-python",
   "name": "python",
   "nbconvert_exporter": "python",
   "pygments_lexer": "ipython3",
   "version": "3.9.7"
  }
 },
 "nbformat": 4,
 "nbformat_minor": 5
}
